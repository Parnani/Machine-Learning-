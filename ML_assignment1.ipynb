{
 "cells": [
  {
   "cell_type": "code",
   "execution_count": 6,
   "metadata": {},
   "outputs": [
    {
     "data": {
      "image/png": "[encoded data removed]",
      "text/plain": [
       "<Figure size 432x288 with 1 Axes>"
      ]
     },
     "metadata": {
      "needs_background": "light"
     },
     "output_type": "display_data"
    }
   ],
   "source": [
    "#Q1\n",
    "import numpy as np\n",
    "import matplotlib.pyplot as plt  #import the matplotlib library\n",
    "x = np.array([2017,2018,2019,2020,2021,2022])\n",
    "y = np.array([3000, 8000, 20000, 25000, 32000, 40000])\n",
    "n = len(x) #number of elements in x\n",
    "b1 = (np.matmul(x,y))\n",
    "b0 = (np.sum(y))\n",
    "y_pred = b0 + b1*x #predicted values of y\n",
    "plt.scatter(x,y,c=\"red\",label = \"Actual data\")\n",
    "plt.plot(x,y_pred,label = \"Predicted data\")\n",
    "plt.xlabel(\"Year\")\n",
    "plt.ylabel(\"Nexon Units Sold\")\n",
    "plt.legend()   #legend is used to show the labels.Labels are given in the plot function\n",
    "plt.show()\n",
    "\n"
   ]
  },
  {
   "cell_type": "code",
   "execution_count": 9,
   "metadata": {},
   "outputs": [
    {
     "name": "stdout",
     "output_type": "stream",
     "text": [
      "The predicted sale in the year 2023 is -783461112\n"
     ]
    },
    {
     "name": "stderr",
     "output_type": "stream",
     "text": [
      "C:\\Users\\KIIT\\AppData\\Local\\Temp\\ipykernel_24140\\2632501058.py:2: RuntimeWarning: overflow encountered in scalar multiply\n",
      "  y_pred = b0 + b1*2023\n"
     ]
    }
   ],
   "source": [
    "#predict the sale in the year 2023\n",
    "y_pred = b0 + b1*2023\n",
    "print(\"The predicted sale in the year 2023 is\",y_pred)\n"
   ]
  },
  {
   "cell_type": "code",
   "execution_count": 12,
   "metadata": {},
   "outputs": [
    {
     "name": "stdout",
     "output_type": "stream",
     "text": [
      "[0 4 3 5 9 2 7 6 8 1]\n",
      "The predicted weight is :  65.0\n"
     ]
    }
   ],
   "source": [
    "import numpy as np\n",
    "import matplotlib.pyplot as plt\n",
    "height = np.array([5, 5.11, 5.6, 5.9, 4.8, 5.8, 5.3, 5.8, 5.5, 5.6])\n",
    "age = np.array([45, 26, 30, 34, 40, 36, 19, 28, 23, 32])\n",
    "weight = np.array([77, 47, 55, 59, 72, 60, 40, 60, 45, 58])\n",
    "K = 5 #K is the nearest neighbours\n",
    "n = len(age)\n",
    "dist = np.zeros(n)\n",
    "for i in range(n):\n",
    "    dist[i] = np.sqrt((age[i]-age[0])**2 + (height[i]-height[0])**2)  \n",
    "    #distance between the first point and all other points we want to predict. This distance is called Euclidean distance.\n",
    "\n",
    "index = np.argpartition(dist,K) #returns the index of the K nearest neighbour\n",
    "print(index)\n",
    "print(\"The predicted weight is : \",np.round(np.mean(weight[index[:K]])))  #mean of the K nearest neighbour is the predicted weight\n",
    "\n"
   ]
  },
  {
   "cell_type": "code",
   "execution_count": 15,
   "metadata": {},
   "outputs": [
    {
     "ename": "TypeError",
     "evalue": "object of type 'int' has no len()",
     "output_type": "error",
     "traceback": [
      "\u001b[1;31m---------------------------------------------------------------------------\u001b[0m",
      "\u001b[1;31mTypeError\u001b[0m                                 Traceback (most recent call last)",
      "\u001b[1;32mc:\\Users\\KIIT\\Documents\\My Investment\\VS codes programs\\Machine_Learning\\ML_assignment1.ipynb Cell 4\u001b[0m in \u001b[0;36m<cell line: 5>\u001b[1;34m()\u001b[0m\n\u001b[0;32m      <a href='vscode-notebook-cell:/c%3A/Users/KIIT/Documents/My%20Investment/VS%20codes%20programs/Machine_Learning/ML_assignment1.ipynb#W3sZmlsZQ%3D%3D?line=2'>3</a>\u001b[0m age \u001b[39m=\u001b[39m \u001b[39m38\u001b[39m\n\u001b[0;32m      <a href='vscode-notebook-cell:/c%3A/Users/KIIT/Documents/My%20Investment/VS%20codes%20programs/Machine_Learning/ML_assignment1.ipynb#W3sZmlsZQ%3D%3D?line=3'>4</a>\u001b[0m K \u001b[39m=\u001b[39m \u001b[39m5\u001b[39m\n\u001b[1;32m----> <a href='vscode-notebook-cell:/c%3A/Users/KIIT/Documents/My%20Investment/VS%20codes%20programs/Machine_Learning/ML_assignment1.ipynb#W3sZmlsZQ%3D%3D?line=4'>5</a>\u001b[0m n \u001b[39m=\u001b[39m \u001b[39mlen\u001b[39;49m(age)\n\u001b[0;32m      <a href='vscode-notebook-cell:/c%3A/Users/KIIT/Documents/My%20Investment/VS%20codes%20programs/Machine_Learning/ML_assignment1.ipynb#W3sZmlsZQ%3D%3D?line=5'>6</a>\u001b[0m dist \u001b[39m=\u001b[39m np\u001b[39m.\u001b[39mzeros(n)\n\u001b[0;32m      <a href='vscode-notebook-cell:/c%3A/Users/KIIT/Documents/My%20Investment/VS%20codes%20programs/Machine_Learning/ML_assignment1.ipynb#W3sZmlsZQ%3D%3D?line=6'>7</a>\u001b[0m \u001b[39mprint\u001b[39m(\u001b[39m\"\u001b[39m\u001b[39mThe predicted weight is : \u001b[39m\u001b[39m\"\u001b[39m,np\u001b[39m.\u001b[39mround(weight[index[:K]]))\n",
      "\u001b[1;31mTypeError\u001b[0m: object of type 'int' has no len()"
     ]
    }
   ],
   "source": [
    "#What is the value of the predicted weight when the number of nearest neighbors are 5, i.e., K = 5 for age 38 and height 5.6\n",
    "height = 5.6\n",
    "age = 38\n",
    "K = 5\n",
    "n = len(age)\n",
    "dist = np.zeros(n)\n",
    "print(\"The predicted weight is : \",np.round(weight[index[:K]]))#mean of the K nearest neighbour is the predicted weight\n"
   ]
  },
  {
   "cell_type": "code",
   "execution_count": 16,
   "metadata": {},
   "outputs": [
    {
     "name": "stdout",
     "output_type": "stream",
     "text": [
      "3.605551275463989\n"
     ]
    }
   ],
   "source": [
    "import numpy as np\n",
    "import matplotlib.pyplot as plt\n",
    "\n",
    "def euclidean_distance(x1,x2):\n",
    "    return np.sqrt(np.sum((x1-x2)**2))\n",
    "\n",
    "print (euclidean_distance(np.array([10, 12, 7, 8]),np.array([8, 10, 6, 10])))"
   ]
  },
  {
   "cell_type": "code",
   "execution_count": 21,
   "metadata": {},
   "outputs": [
    {
     "name": "stdout",
     "output_type": "stream",
     "text": [
      "10\n"
     ]
    }
   ],
   "source": [
    "import numpy as np\n",
    "import matplotlib.pyplot as plt\n",
    "\n",
    "def manhattan_distance(x1,x2):\n",
    "    return np.sum(np.abs(x1-x2))   #absolute value of the difference between the two points\n",
    "\n",
    "print (manhattan_distance(np.array([10, 12, 6, 8]),np.array([8, 10, 10, 10])))"
   ]
  },
  {
   "cell_type": "code",
   "execution_count": 22,
   "metadata": {},
   "outputs": [
    {
     "name": "stdout",
     "output_type": "stream",
     "text": [
      "4.4479601811386305\n"
     ]
    }
   ],
   "source": [
    "def minkowski_distance(x1,x2,p):\n",
    "    return np.power(np.sum(np.power(np.abs(x1-x2),p)),1/p)\n",
    "\n",
    "print (minkowski_distance(np.array([10, 12, 6, 8]),np.array([8, 10, 10, 10]), 3))"
   ]
  }
 ],
 "metadata": {
  "kernelspec": {
   "display_name": "Python 3",
   "language": "python",
   "name": "python3"
  },
  "language_info": {
   "codemirror_mode": {
    "name": "ipython",
    "version": 3
   },
   "file_extension": ".py",
   "mimetype": "text/x-python",
   "name": "python",
   "nbconvert_exporter": "python",
   "pygments_lexer": "ipython3",
   "version": "3.9.6 (tags/v3.9.6:db3ff76, Jun 28 2021, 15:26:21) [MSC v.1929 64 bit (AMD64)]"
  },
  "orig_nbformat": 4,
  "vscode": {
   "interpreter": {
    "hash": "81794d4967e6c3204c66dcd87b604927b115b27c00565d3d43f05ba2f3a2cb0d"
   }
  }
 },
 "nbformat": 4,
 "nbformat_minor": 2
}
